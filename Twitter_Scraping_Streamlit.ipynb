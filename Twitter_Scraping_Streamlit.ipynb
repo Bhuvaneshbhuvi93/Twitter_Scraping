{
 "cells": [
  {
   "cell_type": "markdown",
   "id": "98f1cfe1",
   "metadata": {},
   "source": [
    "# Twitter_Scraping_Streamlit\n"
   ]
  },
  {
   "cell_type": "markdown",
   "id": "1776fedd",
   "metadata": {},
   "source": [
    "## Importing Libraries"
   ]
  },
  {
   "cell_type": "code",
   "execution_count": 1,
   "id": "5ac11aaf",
   "metadata": {},
   "outputs": [],
   "source": [
    "import pandas as pd\n",
    "import snscrape.modules.twitter as sntwitter\n",
    "from pymongo import MongoClient\n",
    "import json\n",
    "import streamlit as st\n",
    "import base64\n",
    "import datetime"
   ]
  },
  {
   "cell_type": "markdown",
   "id": "e023f207",
   "metadata": {},
   "source": [
    "## Scraping Tweets using Scscrape Twitter Module"
   ]
  },
  {
   "cell_type": "code",
   "execution_count": 2,
   "id": "33d9376c",
   "metadata": {},
   "outputs": [],
   "source": [
    "# function.py\n",
    "\n",
    "def twitter_scraper(hastag, limit, start_date, end_date):\n",
    "    tweet_list = []\n",
    "    for i,tweet in enumerate(sntwitter.TwitterSearchScraper(f'{hastag} since:{start_date} until:{end_date}').get_items()):\n",
    "        data = [\n",
    "            tweet.date,\n",
    "            tweet.user.username,\n",
    "            tweet.rawContent,\n",
    "            tweet.lang,\n",
    "            tweet.viewCount,\n",
    "            tweet.replyCount,\n",
    "            tweet.likeCount,\n",
    "            tweet.retweetCount,\n",
    "        ]\n",
    "        tweet_list.append(data)\n",
    "        if i > limit:\n",
    "            break\n",
    "            \n",
    "    return tweet_list\n",
    "\n",
    "def create_dataframe(tweet_list):\n",
    "    tweet_data = pd.DataFrame(tweet_list, columns = [\n",
    "        'Date Time',\n",
    "        'Username',\n",
    "        'Tweet Content',\n",
    "        'Tweet Language',\n",
    "        'Tweet Views',\n",
    "        'Reply Count',\n",
    "        'like Count',\n",
    "        'Retweet Count',\n",
    "    ]\n",
    "                             )\n",
    "    return tweet_data                                                      "
   ]
  },
  {
   "cell_type": "markdown",
   "id": "e31f3391",
   "metadata": {},
   "source": [
    "##  Streamlit GUI Code"
   ]
  },
  {
   "cell_type": "code",
   "execution_count": 3,
   "id": "938d5568",
   "metadata": {},
   "outputs": [
    {
     "name": "stderr",
     "output_type": "stream",
     "text": [
      "2023-01-25 21:11:51.888 \n",
      "  \u001b[33m\u001b[1mWarning:\u001b[0m to view this Streamlit app on a browser, run it with the following\n",
      "  command:\n",
      "\n",
      "    streamlit run C:\\Users\\USER\\Anaconda3\\lib\\site-packages\\ipykernel_launcher.py [ARGUMENTS]\n"
     ]
    }
   ],
   "source": [
    "# GUI.py\n",
    "\n",
    "st.title(\"Twitter Scraper\")\n",
    "\n",
    "# Get user input for keyword or hashtag\n",
    "keyword = st.text_input(\"Enter keyword or hashtag:\")\n",
    "\n",
    "# Get user input for start date\n",
    "start_date = st.date_input(\"Select start date:\", key='start_date')\n",
    "\n",
    "# Get user input for end date\n",
    "end_date = st.date_input(\"Select end date:\", key='end_date')\n",
    "\n",
    "# Get user input for tweet limit\n",
    "tweet_limit = st.number_input(\"Enter tweet limit:\", key='limit')\n",
    "\n",
    "# Scrape tweets\n",
    "\n",
    "if st.button(\"Scrape tweets\"):\n",
    "        tweets = twitter_scraper(keyword, tweet_limit, start_date, end_date)\n",
    "        global tweet_data\n",
    "        tweet_data = create_dataframe(tweets)\n",
    "        st.dataframe(tweet_data)\n",
    "        \n",
    "\n",
    "# Upload to MongoDB\n",
    "if st.button(\"Upload to MongoDB\"):\n",
    "    \n",
    "        tweets = twitter_scraper(keyword, tweet_limit, start_date, end_date)\n",
    "        tweet_data = create_dataframe(tweets)\n",
    "\n",
    "        client = MongoClient('mongodb://localhost:27017/')\n",
    "        db = client['twitter_db_streamlit']\n",
    "        collection = db['tweets']\n",
    "        current_timestamp = datetime.datetime.now().strftime(\"%Y-%m-%d %H:%M:%S\")\n",
    "        \n",
    "        data = {\n",
    "                \"hashtag_or_keyword\": keyword,\n",
    "                \"timestamp\": current_timestamp,\n",
    "                \"tweets\": json.loads(tweet_data.to_json(orient='records'))\n",
    "            }\n",
    "        \n",
    "        collection.insert_one(data)\n",
    "        st.success(\"Uploaded to MongoDB!\")\n",
    "\n",
    "# Download as CSV\n",
    "if st.button(\"Download as CSV\"):\n",
    "        tweets = twitter_scraper(keyword, tweet_limit, start_date, end_date)\n",
    "        tweet_data = create_dataframe(tweets)\n",
    "\n",
    "        st.write(\"Saving dataframe as CSV\")\n",
    "        csv = tweet_data.to_csv(index=False)\n",
    "        b64 = base64.b64encode(csv.encode()).decode()\n",
    "        href = f'<a href=\"data:file/csv;base64,{b64}\" download=\"tweet_data.csv\">Download CSV File</a>'\n",
    "        st.markdown(href, unsafe_allow_html=True)\n",
    "\n",
    "# Download as JSON\n",
    "if st.button(\"Download as JSON\"):\n",
    "        tweets = twitter_scraper(keyword, tweet_limit, start_date, end_date)\n",
    "        tweet_data = create_dataframe(tweets)\n",
    "        \n",
    "        st.write(\"Saving dataframe as JSON\")\n",
    "        json_string = tweet_data.to_json(indent=2)\n",
    "        b64 =     base64.b64encode(json_string.encode()).decode()\n",
    "        href = f'<a href=\"data:file/json;base64,{b64}\" download=\"tweet_data.json\">Download JSON File</a>'\n",
    "        st.markdown(href, unsafe_allow_html=True)"
   ]
  },
  {
   "cell_type": "code",
   "execution_count": null,
   "id": "eec960d9",
   "metadata": {},
   "outputs": [],
   "source": []
  }
 ],
 "metadata": {
  "kernelspec": {
   "display_name": "Python 3 (ipykernel)",
   "language": "python",
   "name": "python3"
  },
  "language_info": {
   "codemirror_mode": {
    "name": "ipython",
    "version": 3
   },
   "file_extension": ".py",
   "mimetype": "text/x-python",
   "name": "python",
   "nbconvert_exporter": "python",
   "pygments_lexer": "ipython3",
   "version": "3.9.13"
  }
 },
 "nbformat": 4,
 "nbformat_minor": 5
}
